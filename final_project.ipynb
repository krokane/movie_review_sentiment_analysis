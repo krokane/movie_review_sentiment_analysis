{
 "cells": [
  {
   "cell_type": "markdown",
   "id": "77a3987d",
   "metadata": {},
   "source": [
    "#### Kevin O'Kane  @krokane  2385578067"
   ]
  },
  {
   "cell_type": "markdown",
   "id": "9cb49e37",
   "metadata": {},
   "source": [
    "## Text Classification for Sentiment Analysis "
   ]
  },
  {
   "cell_type": "markdown",
   "id": "3d909c42",
   "metadata": {},
   "source": [
    "### (a) Intro"
   ]
  },
  {
   "cell_type": "code",
   "execution_count": 1,
   "id": "74a48a5e",
   "metadata": {},
   "outputs": [],
   "source": [
    "#Packages\n",
    "import matplotlib.pyplot as plt\n",
    "import numpy as np\n",
    "import os \n",
    "import pandas as pd\n",
    "import seaborn as sns\n",
    "import string\n",
    "import tensorflow as tf\n",
    "\n",
    "from keras.layers import Embedding, Conv1D, Dense, Dropout, Flatten, LSTM, MaxPooling1D\n",
    "from keras.models import Sequential\n",
    "from keras.preprocessing.sequence import pad_sequences\n",
    "from tensorflow.keras.preprocessing.text import Tokenizer"
   ]
  },
  {
   "cell_type": "markdown",
   "id": "cf659a59",
   "metadata": {},
   "source": [
    "### (b) Data Exploration and Pre-processing "
   ]
  },
  {
   "cell_type": "code",
   "execution_count": 2,
   "id": "83cfad3a",
   "metadata": {},
   "outputs": [],
   "source": [
    "# Reading in Negative Review Data\n",
    "# Source: https://www.geeksforgeeks.org/how-to-read-multiple-text-files-from-folder-in-python/\n",
    "neg_path = '../data/neg'\n",
    "neg_files = os.listdir(neg_path)\n",
    "\n",
    "neg_list = []\n",
    "for i in range(len(neg_files)):\n",
    "    with open(neg_path+'/'+neg_files[i], 'r') as file: \n",
    "        neg_list.append(file.read())\n",
    "\n",
    "#Remove Punctuation and Numbers\n",
    "for i in range(len(neg_list)):\n",
    "    neg_list[i] = neg_list[i].replace('\\n','')\n",
    "    for j in range(len(string.punctuation)):\n",
    "        neg_list[i] = neg_list[i].replace(string.punctuation[j],'')\n",
    "    for k in range(len(string.digits)):\n",
    "        neg_list[i] = neg_list[i].replace(string.digits[k],'')\n",
    "        \n",
    "neg_cvs = []\n",
    "for i in range(len(neg_files)):\n",
    "    neg_cvs.append(int(neg_files[i].split('_')[0].split('v')[1]))\n",
    "    \n",
    "neg = pd.DataFrame()\n",
    "neg['cv'] = neg_cvs\n",
    "neg['text'] = neg_list\n",
    "neg['sentiment'] = [-1] * len(neg_list)\n",
    "neg['sentiment2'] = [0] * len(neg_list)"
   ]
  },
  {
   "cell_type": "code",
   "execution_count": 3,
   "id": "ab6449d3",
   "metadata": {},
   "outputs": [],
   "source": [
    "# Reading in Positive Review Data\n",
    "# Source: https://www.geeksforgeeks.org/how-to-read-multiple-text-files-from-folder-in-python/\n",
    "pos_path = '../data/pos'\n",
    "pos_files = os.listdir(pos_path)\n",
    "\n",
    "pos_list = []\n",
    "for i in range(len(pos_files)):\n",
    "    with open(pos_path+'/'+pos_files[i], 'r') as file: \n",
    "        pos_list.append(file.read())\n",
    "\n",
    "#Remove Punctuation and Numbers\n",
    "for i in range(len(pos_list)):\n",
    "    pos_list[i] = pos_list[i].replace('\\n','')\n",
    "    for j in range(len(string.punctuation)):\n",
    "        pos_list[i] = pos_list[i].replace(string.punctuation[j],'')\n",
    "    for k in range(len(string.digits)):\n",
    "        pos_list[i] = pos_list[i].replace(string.digits[k],'')\n",
    "\n",
    "pos_cvs = []\n",
    "for i in range(len(pos_files)):\n",
    "    pos_cvs.append(int(pos_files[i].split('_')[0].split('v')[1]))\n",
    "    \n",
    "pos = pd.DataFrame()\n",
    "pos['cv'] = pos_cvs\n",
    "pos['text'] = pos_list\n",
    "pos['sentiment'] = [1] * len(pos_list)\n",
    "pos['sentiment2'] = [1] * len(pos_list)"
   ]
  },
  {
   "cell_type": "code",
   "execution_count": 4,
   "id": "e1433e9b",
   "metadata": {},
   "outputs": [],
   "source": [
    "# Create Training and Test Sets\n",
    "neg_tr = neg[neg['cv'] < 700]\n",
    "neg_te = neg[neg['cv'] >= 700]\n",
    "\n",
    "pos_tr = pos[pos['cv'] < 700]\n",
    "pos_te = pos[pos['cv'] >= 700]\n",
    "\n",
    "train = pd.concat([neg_tr,pos_tr])\n",
    "train.index = range(len(train))\n",
    "test = pd.concat([neg_te,pos_te])\n",
    "test.index = range(len(test))"
   ]
  },
  {
   "cell_type": "code",
   "execution_count": 5,
   "id": "e854e747",
   "metadata": {},
   "outputs": [
    {
     "name": "stdout",
     "output_type": "stream",
     "text": [
      "46830\n"
     ]
    }
   ],
   "source": [
    "#Count Unique Words\n",
    "all_text = pd.concat([train['text'],test['text']])\n",
    "all_text.index = range(len(all_text))\n",
    "\n",
    "unique_words = set()\n",
    "for i in range(len(all_text)):\n",
    "    unique_words.update(set(all_text[i].split()))\n",
    "print(len(unique_words))"
   ]
  },
  {
   "cell_type": "code",
   "execution_count": 6,
   "id": "07d413fa",
   "metadata": {},
   "outputs": [
    {
     "name": "stdout",
     "output_type": "stream",
     "text": [
      "644\n",
      "285\n"
     ]
    }
   ],
   "source": [
    "# Calculate Review Mean/StDev\n",
    "review_lens = []\n",
    "\n",
    "for i in range(len(all_text)):\n",
    "    review_lens.append(len(all_text[i].split()))\n",
    "\n",
    "print(round(np.mean(review_lens)))\n",
    "print(round(np.std(review_lens)))"
   ]
  },
  {
   "cell_type": "code",
   "execution_count": 7,
   "id": "2bc0452d",
   "metadata": {},
   "outputs": [
    {
     "data": {
      "image/png": "[encoded data removed]",
      "text/plain": [
       "<Figure size 640x480 with 1 Axes>"
      ]
     },
     "metadata": {},
     "output_type": "display_data"
    }
   ],
   "source": [
    "#Review Lengths Histogram\n",
    "sns.set_style('whitegrid')\n",
    "plt.hist(review_lens)\n",
    "plt.title('Review Lengths')\n",
    "plt.xlabel('length');"
   ]
  },
  {
   "cell_type": "code",
   "execution_count": 8,
   "id": "cef3f894",
   "metadata": {},
   "outputs": [],
   "source": [
    "#Tokenizing text documents to integers\n",
    "tokenizer = Tokenizer()\n",
    "tokenizer.fit_on_texts(all_text)"
   ]
  },
  {
   "cell_type": "code",
   "execution_count": 9,
   "id": "7c14d645",
   "metadata": {},
   "outputs": [],
   "source": [
    "#Uniform length for encoded sequences on training data, through truncation and padding\n",
    "#Source: https://towardsdatascience.com/an-easy-tutorial-about-sentiment-analysis-with-deep-learning-and-keras-2bf52b9cba91\n",
    "L = int(np.quantile(review_lens,.9))\n",
    "\n",
    "encoded_train = tokenizer.texts_to_sequences(train['text'])\n",
    "\n",
    "for i in range(len(encoded_train)):\n",
    "    if len(encoded_train[i]) > L:\n",
    "        encoded_train[i] = encoded_train[i][:L]\n",
    "    else: continue\n",
    "\n",
    "encoded_train = pad_sequences(encoded_train, maxlen = L)\n",
    "\n",
    "train['encoded'] = list(encoded_train)"
   ]
  },
  {
   "cell_type": "code",
   "execution_count": 10,
   "id": "ed233b89",
   "metadata": {},
   "outputs": [],
   "source": [
    "#Repeat for Test Data\n",
    "encoded_test = tokenizer.texts_to_sequences(test['text'])\n",
    "\n",
    "for i in range(len(encoded_test)):\n",
    "    if len(encoded_test[i]) > L:\n",
    "        encoded_test[i] = encoded_test[i][:L]\n",
    "    else: continue\n",
    "\n",
    "encoded_test = pad_sequences(encoded_test, maxlen = L)\n",
    "\n",
    "test['encoded'] = list(encoded_test)"
   ]
  },
  {
   "cell_type": "markdown",
   "id": "40720dfd",
   "metadata": {},
   "source": [
    "### (c) Embedding Layer"
   ]
  },
  {
   "cell_type": "code",
   "execution_count": 11,
   "id": "033751b7",
   "metadata": {},
   "outputs": [],
   "source": [
    "#Limiting Vocabulary Size\n",
    "for i in range(len(train)):\n",
    "    for j in range(len(train['encoded'][i])):\n",
    "        if train['encoded'][i][j] < 20000: continue\n",
    "        else: \n",
    "            train['encoded'][i][j] = 0"
   ]
  },
  {
   "cell_type": "code",
   "execution_count": 12,
   "id": "8b2fab8b",
   "metadata": {},
   "outputs": [],
   "source": [
    "#Repeat for Test Data\n",
    "for i in range(len(test)):\n",
    "    for j in range(len(test['encoded'][i])):\n",
    "        if test['encoded'][i][j] < 20000: continue\n",
    "        else: \n",
    "            test['encoded'][i][j] = 0"
   ]
  },
  {
   "cell_type": "markdown",
   "id": "19e04999",
   "metadata": {},
   "source": [
    "### (d) Multi-Layer Perceptron"
   ]
  },
  {
   "cell_type": "code",
   "execution_count": 13,
   "id": "ed34fa96",
   "metadata": {},
   "outputs": [],
   "source": [
    "#Creating Model Structure\n",
    "#Source: https://towardsdatascience.com/an-easy-tutorial-about-sentiment-analysis-with-deep-learning-and-keras-2bf52b9cba91\n",
    "#Source: https://machinelearningmastery.com/use-word-embedding-layers-deep-learning-keras/\n",
    "#Source: https://machinelearningmastery.com/dropout-regularization-deep-learning-models-keras/\n",
    "\n",
    "mlp = Sequential()\n",
    "mlp.add(Embedding(20000,32))\n",
    "mlp.add(Flatten())\n",
    "mlp.add(Dense(50, activation='relu'))\n",
    "mlp.add(Dropout(.1))\n",
    "mlp.add(Dense(50, activation='relu'))\n",
    "mlp.add(Dropout(.1))\n",
    "mlp.add(Dense(50, activation='relu'))\n",
    "mlp.add(Dropout(.1))\n",
    "mlp.add(Dense(1, activation='sigmoid'))\n",
    "\n",
    "mlp.compile(optimizer='adam', loss='binary_crossentropy', metrics=['accuracy'])"
   ]
  },
  {
   "cell_type": "code",
   "execution_count": 14,
   "id": "09a26f9f",
   "metadata": {},
   "outputs": [],
   "source": [
    "#Model Fitting\n",
    "train_x = tf.convert_to_tensor(np.array(train['encoded'].to_list()))\n",
    "train_y = tf.convert_to_tensor(np.array(train['sentiment'].to_list()))\n",
    "train_y2 = tf.convert_to_tensor(np.array(train['sentiment2'].to_list()))\n",
    "\n",
    "\n",
    "test_x = tf.convert_to_tensor(np.array(test['encoded'].to_list()))\n",
    "test_y = tf.convert_to_tensor(np.array(test['sentiment'].to_list()))\n",
    "test_y2 = tf.convert_to_tensor(np.array(test['sentiment2'].to_list()))\n",
    "\n",
    "mlp.fit(x=train_x,y=train_y,batch_size=10,epochs=2, verbose=0);"
   ]
  },
  {
   "cell_type": "code",
   "execution_count": 15,
   "id": "b162303d",
   "metadata": {},
   "outputs": [
    {
     "name": "stdout",
     "output_type": "stream",
     "text": [
      "MLP Training Accuracy = 0.5199999809265137\n",
      "MLP Test Accuracy = 0.5083333253860474\n"
     ]
    }
   ],
   "source": [
    "#Assessing Model Accuracy, Training\n",
    "mlp_train_loss, mlp_train_accuracy = mlp.evaluate(x=train_x,y=train_y2, verbose=0)\n",
    "\n",
    "#Assessing Model Accuracy, Test\n",
    "mlp_test_loss, mlp_test_accuracy = mlp.evaluate(x=test_x,y=test_y2, verbose=0)\n",
    "\n",
    "print(f'MLP Training Accuracy = {mlp_train_accuracy}')\n",
    "print(f'MLP Test Accuracy = {mlp_test_accuracy}')"
   ]
  },
  {
   "cell_type": "markdown",
   "id": "4a88d19b",
   "metadata": {},
   "source": [
    "Decreasing the Dropout rate towards 0.1 improved both the test and training accuracy of the model, though both rates were only slightly better than a bernoulli/coin flip. Another adjustment that improved the accuracy of the model was using a sentiment measure of either 0 or 1, instead of -1 or 1. This produced better outcomes with the sigmoid function, including better outcomes over using a tanh activation function with -1 and 1. \n",
    "\n",
    "Also, as with all of the models, the accuracy improved when increasing the vocabulary size to 20,000 from 5,000, as well as increasing the length L of the reviews in the model to the 90th percentile, instead of the 70th."
   ]
  },
  {
   "cell_type": "markdown",
   "id": "47431263",
   "metadata": {},
   "source": [
    "### (e) One-Dimensional Convolutional Neural Network"
   ]
  },
  {
   "cell_type": "code",
   "execution_count": 16,
   "id": "aaad44d9",
   "metadata": {},
   "outputs": [],
   "source": [
    "#Creating Model Structure\n",
    "cnn = Sequential()\n",
    "cnn.add(Embedding(20000,32))\n",
    "cnn.add(Conv1D(32, 3, activation='sigmoid'))\n",
    "cnn.add(MaxPooling1D(2,2))\n",
    "cnn.add(Flatten())\n",
    "cnn.add(Dense(50, activation='relu'))\n",
    "cnn.add(Dropout(.2))\n",
    "cnn.add(Dense(50, activation='relu'))\n",
    "cnn.add(Dropout(.5))\n",
    "cnn.add(Dense(50, activation='relu'))\n",
    "cnn.add(Dropout(.5))\n",
    "cnn.add(Dense(1, activation='sigmoid'))\n",
    "\n",
    "cnn.compile(optimizer='adam', loss='binary_crossentropy', metrics=['accuracy'])"
   ]
  },
  {
   "cell_type": "code",
   "execution_count": 17,
   "id": "bfb55336",
   "metadata": {},
   "outputs": [],
   "source": [
    "#Model Fitting\n",
    "cnn.fit(x=train_x,y=train_y,batch_size=10,epochs=2, verbose=0);"
   ]
  },
  {
   "cell_type": "code",
   "execution_count": 18,
   "id": "60002d1b",
   "metadata": {},
   "outputs": [
    {
     "name": "stdout",
     "output_type": "stream",
     "text": [
      "CNN Training Accuracy = 0.5\n",
      "CNN Test Accuracy = 0.5\n"
     ]
    }
   ],
   "source": [
    "#Assessing Model Accuracy, Training\n",
    "cnn_train_loss, cnn_train_accuracy = cnn.evaluate(x=train_x,y=train_y2, verbose=0)\n",
    "\n",
    "#Assessing Model Accuracy, Test\n",
    "cnn_test_loss, cnn_test_accuracy = cnn.evaluate(x=test_x,y=test_y2, verbose=0)\n",
    "\n",
    "print(f'CNN Training Accuracy = {round(cnn_train_accuracy,8)}')\n",
    "print(f'CNN Test Accuracy = {round(cnn_test_accuracy,8)}')"
   ]
  },
  {
   "cell_type": "markdown",
   "id": "6522fb54",
   "metadata": {},
   "source": [
    "Despite adjusting several parameters of the Convulutional Neural Network, including the droupout rate, the batch size, the amount of epochs, and the final activation function, the CNN model didn't perform well, consistently producing a 50%/50% training and test accuracy, the same level of accuracy as a coin flip.\n",
    "\n",
    "\n",
    "Also, as with all of the models, the accuracy improved when increasing the vocabulary size to 20,000 from 5,000, as well as increasing the length L of the reviews in the model to the 90th percentile, instead of the 70th."
   ]
  },
  {
   "cell_type": "markdown",
   "id": "2adc34e3",
   "metadata": {},
   "source": [
    "### (f) Long Short-Term Memory Recurrent Neural Network"
   ]
  },
  {
   "cell_type": "code",
   "execution_count": 19,
   "id": "a7bca3d3",
   "metadata": {},
   "outputs": [],
   "source": [
    "#Creating Model Structure\n",
    "lstm = Sequential()\n",
    "lstm.add(Embedding(20000,32))\n",
    "lstm.add(LSTM(32, dropout=0.05))\n",
    "lstm.add(Flatten())\n",
    "lstm.add(Dense(256,activation='relu'))\n",
    "lstm.add(Dropout(0.01))\n",
    "lstm.add(Dense(1,activation='sigmoid'))\n",
    "\n",
    "lstm.compile(optimizer='adam', loss='binary_crossentropy', metrics=['accuracy'])"
   ]
  },
  {
   "cell_type": "code",
   "execution_count": 20,
   "id": "ea6770a4",
   "metadata": {},
   "outputs": [
    {
     "name": "stdout",
     "output_type": "stream",
     "text": [
      "Epoch 1/30\n",
      "\u001b[1m140/140\u001b[0m \u001b[32m━━━━━━━━━━━━━━━━━━━━\u001b[0m\u001b[37m\u001b[0m \u001b[1m10s\u001b[0m 64ms/step - accuracy: 0.0000e+00 - loss: 0.2994\n",
      "Epoch 2/30\n",
      "\u001b[1m140/140\u001b[0m \u001b[32m━━━━━━━━━━━━━━━━━━━━\u001b[0m\u001b[37m\u001b[0m \u001b[1m9s\u001b[0m 64ms/step - accuracy: 0.0111 - loss: -0.3530\n",
      "Epoch 3/30\n",
      "\u001b[1m140/140\u001b[0m \u001b[32m━━━━━━━━━━━━━━━━━━━━\u001b[0m\u001b[37m\u001b[0m \u001b[1m9s\u001b[0m 64ms/step - accuracy: 0.1063 - loss: -13.5491\n",
      "Epoch 4/30\n",
      "\u001b[1m140/140\u001b[0m \u001b[32m━━━━━━━━━━━━━━━━━━━━\u001b[0m\u001b[37m\u001b[0m \u001b[1m9s\u001b[0m 64ms/step - accuracy: 0.3711 - loss: -189.8453\n",
      "Epoch 5/30\n",
      "\u001b[1m140/140\u001b[0m \u001b[32m━━━━━━━━━━━━━━━━━━━━\u001b[0m\u001b[37m\u001b[0m \u001b[1m9s\u001b[0m 64ms/step - accuracy: 0.4437 - loss: -723.0648\n",
      "Epoch 6/30\n",
      "\u001b[1m140/140\u001b[0m \u001b[32m━━━━━━━━━━━━━━━━━━━━\u001b[0m\u001b[37m\u001b[0m \u001b[1m9s\u001b[0m 64ms/step - accuracy: 0.4134 - loss: -1512.2856\n",
      "Epoch 7/30\n",
      "\u001b[1m140/140\u001b[0m \u001b[32m━━━━━━━━━━━━━━━━━━━━\u001b[0m\u001b[37m\u001b[0m \u001b[1m9s\u001b[0m 64ms/step - accuracy: 0.4899 - loss: -2685.3530\n",
      "Epoch 8/30\n",
      "\u001b[1m140/140\u001b[0m \u001b[32m━━━━━━━━━━━━━━━━━━━━\u001b[0m\u001b[37m\u001b[0m \u001b[1m9s\u001b[0m 64ms/step - accuracy: 0.4730 - loss: -3977.9333\n",
      "Epoch 9/30\n",
      "\u001b[1m140/140\u001b[0m \u001b[32m━━━━━━━━━━━━━━━━━━━━\u001b[0m\u001b[37m\u001b[0m \u001b[1m9s\u001b[0m 64ms/step - accuracy: 0.4883 - loss: -5469.7207\n",
      "Epoch 10/30\n",
      "\u001b[1m140/140\u001b[0m \u001b[32m━━━━━━━━━━━━━━━━━━━━\u001b[0m\u001b[37m\u001b[0m \u001b[1m9s\u001b[0m 65ms/step - accuracy: 0.4767 - loss: -6832.9390\n",
      "Epoch 11/30\n",
      "\u001b[1m140/140\u001b[0m \u001b[32m━━━━━━━━━━━━━━━━━━━━\u001b[0m\u001b[37m\u001b[0m \u001b[1m9s\u001b[0m 64ms/step - accuracy: 0.4840 - loss: -8703.4766\n",
      "Epoch 12/30\n",
      "\u001b[1m140/140\u001b[0m \u001b[32m━━━━━━━━━━━━━━━━━━━━\u001b[0m\u001b[37m\u001b[0m \u001b[1m9s\u001b[0m 65ms/step - accuracy: 0.4729 - loss: -10669.3389\n",
      "Epoch 13/30\n",
      "\u001b[1m140/140\u001b[0m \u001b[32m━━━━━━━━━━━━━━━━━━━━\u001b[0m\u001b[37m\u001b[0m \u001b[1m9s\u001b[0m 65ms/step - accuracy: 0.4700 - loss: -12586.6650\n",
      "Epoch 14/30\n",
      "\u001b[1m140/140\u001b[0m \u001b[32m━━━━━━━━━━━━━━━━━━━━\u001b[0m\u001b[37m\u001b[0m \u001b[1m9s\u001b[0m 65ms/step - accuracy: 0.4962 - loss: -14314.6191\n",
      "Epoch 15/30\n",
      "\u001b[1m140/140\u001b[0m \u001b[32m━━━━━━━━━━━━━━━━━━━━\u001b[0m\u001b[37m\u001b[0m \u001b[1m9s\u001b[0m 65ms/step - accuracy: 0.4894 - loss: -16483.4941\n",
      "Epoch 16/30\n",
      "\u001b[1m140/140\u001b[0m \u001b[32m━━━━━━━━━━━━━━━━━━━━\u001b[0m\u001b[37m\u001b[0m \u001b[1m9s\u001b[0m 65ms/step - accuracy: 0.5024 - loss: -18826.7129\n",
      "Epoch 17/30\n",
      "\u001b[1m140/140\u001b[0m \u001b[32m━━━━━━━━━━━━━━━━━━━━\u001b[0m\u001b[37m\u001b[0m \u001b[1m39s\u001b[0m 280ms/step - accuracy: 0.4908 - loss: -21660.9492\n",
      "Epoch 18/30\n",
      "\u001b[1m140/140\u001b[0m \u001b[32m━━━━━━━━━━━━━━━━━━━━\u001b[0m\u001b[37m\u001b[0m \u001b[1m9s\u001b[0m 65ms/step - accuracy: 0.4963 - loss: -22666.2402\n",
      "Epoch 19/30\n",
      "\u001b[1m140/140\u001b[0m \u001b[32m━━━━━━━━━━━━━━━━━━━━\u001b[0m\u001b[37m\u001b[0m \u001b[1m9s\u001b[0m 64ms/step - accuracy: 0.5027 - loss: -26047.9883\n",
      "Epoch 20/30\n",
      "\u001b[1m140/140\u001b[0m \u001b[32m━━━━━━━━━━━━━━━━━━━━\u001b[0m\u001b[37m\u001b[0m \u001b[1m9s\u001b[0m 64ms/step - accuracy: 0.4977 - loss: -28835.1484\n",
      "Epoch 21/30\n",
      "\u001b[1m140/140\u001b[0m \u001b[32m━━━━━━━━━━━━━━━━━━━━\u001b[0m\u001b[37m\u001b[0m \u001b[1m9s\u001b[0m 64ms/step - accuracy: 0.4898 - loss: -32917.1641\n",
      "Epoch 22/30\n",
      "\u001b[1m140/140\u001b[0m \u001b[32m━━━━━━━━━━━━━━━━━━━━\u001b[0m\u001b[37m\u001b[0m \u001b[1m9s\u001b[0m 65ms/step - accuracy: 0.4882 - loss: -35678.8398\n",
      "Epoch 23/30\n",
      "\u001b[1m140/140\u001b[0m \u001b[32m━━━━━━━━━━━━━━━━━━━━\u001b[0m\u001b[37m\u001b[0m \u001b[1m9s\u001b[0m 65ms/step - accuracy: 0.4777 - loss: -35211.7578\n",
      "Epoch 24/30\n",
      "\u001b[1m140/140\u001b[0m \u001b[32m━━━━━━━━━━━━━━━━━━━━\u001b[0m\u001b[37m\u001b[0m \u001b[1m9s\u001b[0m 65ms/step - accuracy: 0.4658 - loss: -43364.3828\n",
      "Epoch 25/30\n",
      "\u001b[1m140/140\u001b[0m \u001b[32m━━━━━━━━━━━━━━━━━━━━\u001b[0m\u001b[37m\u001b[0m \u001b[1m9s\u001b[0m 65ms/step - accuracy: 0.5038 - loss: -43686.4180\n",
      "Epoch 26/30\n",
      "\u001b[1m140/140\u001b[0m \u001b[32m━━━━━━━━━━━━━━━━━━━━\u001b[0m\u001b[37m\u001b[0m \u001b[1m9s\u001b[0m 65ms/step - accuracy: 0.4803 - loss: -48857.0508\n",
      "Epoch 27/30\n",
      "\u001b[1m140/140\u001b[0m \u001b[32m━━━━━━━━━━━━━━━━━━━━\u001b[0m\u001b[37m\u001b[0m \u001b[1m9s\u001b[0m 66ms/step - accuracy: 0.5078 - loss: -49418.5273\n",
      "Epoch 28/30\n",
      "\u001b[1m140/140\u001b[0m \u001b[32m━━━━━━━━━━━━━━━━━━━━\u001b[0m\u001b[37m\u001b[0m \u001b[1m9s\u001b[0m 65ms/step - accuracy: 0.4440 - loss: -55013.7656\n",
      "Epoch 29/30\n",
      "\u001b[1m140/140\u001b[0m \u001b[32m━━━━━━━━━━━━━━━━━━━━\u001b[0m\u001b[37m\u001b[0m \u001b[1m9s\u001b[0m 65ms/step - accuracy: 0.5221 - loss: -54958.3438\n",
      "Epoch 30/30\n",
      "\u001b[1m140/140\u001b[0m \u001b[32m━━━━━━━━━━━━━━━━━━━━\u001b[0m\u001b[37m\u001b[0m \u001b[1m9s\u001b[0m 65ms/step - accuracy: 0.4840 - loss: -62757.6133\n"
     ]
    },
    {
     "data": {
      "text/plain": [
       "<keras.src.callbacks.history.History at 0x305757fd0>"
      ]
     },
     "execution_count": 20,
     "metadata": {},
     "output_type": "execute_result"
    }
   ],
   "source": [
    "#Model Fitting\n",
    "lstm.fit(x=train_x,y=train_y,batch_size=10,epochs=30, verbose=1)"
   ]
  },
  {
   "cell_type": "code",
   "execution_count": 21,
   "id": "864073e1",
   "metadata": {},
   "outputs": [
    {
     "name": "stdout",
     "output_type": "stream",
     "text": [
      "LSTM Training Accuracy = 0.99857146\n",
      "LSTM Test Accuracy = 0.69833332\n"
     ]
    }
   ],
   "source": [
    "#Assessing Model Accuracy, Training\n",
    "lstm_train_loss, lstm_train_accuracy = lstm.evaluate(x=train_x,y=train_y2, verbose=0)\n",
    "\n",
    "#Assessing Model Accuracy, Test\n",
    "lstm_test_loss, lstm_test_accuracy = lstm.evaluate(x=test_x,y=test_y2, verbose=0)\n",
    "\n",
    "print(f'LSTM Training Accuracy = {round(lstm_train_accuracy,8)}')\n",
    "print(f'LSTM Test Accuracy = {round(lstm_test_accuracy,8)}')"
   ]
  },
  {
   "cell_type": "markdown",
   "id": "31f5d885",
   "metadata": {},
   "source": [
    "The LSTM Neural Network proudced the best output of the models. Several parameters were adjusted, including dropping the dropout rate from 0.2 to 0.05. An epoch amount of 30 produced the best results for this model, with a training accuracy around 99.5% and a test accuracy around 70%. \n",
    "\n",
    "Also, as with all of the models, the accuracy improved when increasing the vocabulary size to 20,000 from 5,000, as well as increasing the length L of the reviews in the model to the 90th percentile, instead of the 70th."
   ]
  }
 ],
 "metadata": {
  "kernelspec": {
   "display_name": "Python 3 (ipykernel)",
   "language": "python",
   "name": "python3"
  },
  "language_info": {
   "codemirror_mode": {
    "name": "ipython",
    "version": 3
   },
   "file_extension": ".py",
   "mimetype": "text/x-python",
   "name": "python",
   "nbconvert_exporter": "python",
   "pygments_lexer": "ipython3",
   "version": "3.11.5"
  }
 },
 "nbformat": 4,
 "nbformat_minor": 5
}
